{
 "cells": [
  {
   "cell_type": "code",
   "execution_count": 1,
   "metadata": {},
   "outputs": [],
   "source": [
    "# Import modules\n",
    "import pandas as pd\n",
    "import numpy as np\n",
    "import plotly.graph_objects as go\n",
    "from plotly.subplots import make_subplots"
   ]
  },
  {
   "cell_type": "code",
   "execution_count": 2,
   "metadata": {},
   "outputs": [
    {
     "data": {
      "text/html": [
       "<div>\n",
       "<style scoped>\n",
       "    .dataframe tbody tr th:only-of-type {\n",
       "        vertical-align: middle;\n",
       "    }\n",
       "\n",
       "    .dataframe tbody tr th {\n",
       "        vertical-align: top;\n",
       "    }\n",
       "\n",
       "    .dataframe thead th {\n",
       "        text-align: right;\n",
       "    }\n",
       "</style>\n",
       "<table border=\"1\" class=\"dataframe\">\n",
       "  <thead>\n",
       "    <tr style=\"text-align: right;\">\n",
       "      <th></th>\n",
       "      <th>StateCodes</th>\n",
       "      <th>State</th>\n",
       "      <th>Region</th>\n",
       "      <th>Division</th>\n",
       "      <th>Coast</th>\n",
       "      <th>Great Lakes</th>\n",
       "      <th>TotalC2010</th>\n",
       "      <th>TotalC2011</th>\n",
       "      <th>TotalC2012</th>\n",
       "      <th>TotalC2013</th>\n",
       "      <th>...</th>\n",
       "      <th>RINTERNATIONALMIG2013</th>\n",
       "      <th>RINTERNATIONALMIG2014</th>\n",
       "      <th>RDOMESTICMIG2011</th>\n",
       "      <th>RDOMESTICMIG2012</th>\n",
       "      <th>RDOMESTICMIG2013</th>\n",
       "      <th>RDOMESTICMIG2014</th>\n",
       "      <th>RNETMIG2011</th>\n",
       "      <th>RNETMIG2012</th>\n",
       "      <th>RNETMIG2013</th>\n",
       "      <th>RNETMIG2014</th>\n",
       "    </tr>\n",
       "  </thead>\n",
       "  <tbody>\n",
       "    <tr>\n",
       "      <th>0</th>\n",
       "      <td>AL</td>\n",
       "      <td>Alabama</td>\n",
       "      <td>3.0</td>\n",
       "      <td>6.0</td>\n",
       "      <td>1.0</td>\n",
       "      <td>0.0</td>\n",
       "      <td>1931522</td>\n",
       "      <td>1905207</td>\n",
       "      <td>1879716</td>\n",
       "      <td>1919365</td>\n",
       "      <td>...</td>\n",
       "      <td>1.165832</td>\n",
       "      <td>1.157861</td>\n",
       "      <td>-0.020443</td>\n",
       "      <td>-0.168414</td>\n",
       "      <td>0.396416</td>\n",
       "      <td>0.420102</td>\n",
       "      <td>1.011941</td>\n",
       "      <td>1.001333</td>\n",
       "      <td>1.562247</td>\n",
       "      <td>1.577963</td>\n",
       "    </tr>\n",
       "    <tr>\n",
       "      <th>1</th>\n",
       "      <td>AK</td>\n",
       "      <td>Alaska</td>\n",
       "      <td>4.0</td>\n",
       "      <td>9.0</td>\n",
       "      <td>1.0</td>\n",
       "      <td>0.0</td>\n",
       "      <td>653221</td>\n",
       "      <td>653637</td>\n",
       "      <td>649341</td>\n",
       "      <td>621107</td>\n",
       "      <td>...</td>\n",
       "      <td>3.203618</td>\n",
       "      <td>2.869760</td>\n",
       "      <td>-1.175137</td>\n",
       "      <td>-1.949571</td>\n",
       "      <td>-3.789313</td>\n",
       "      <td>-13.754494</td>\n",
       "      <td>0.948185</td>\n",
       "      <td>1.835376</td>\n",
       "      <td>-0.585695</td>\n",
       "      <td>-10.884734</td>\n",
       "    </tr>\n",
       "    <tr>\n",
       "      <th>2</th>\n",
       "      <td>AZ</td>\n",
       "      <td>Arizona</td>\n",
       "      <td>4.0</td>\n",
       "      <td>8.0</td>\n",
       "      <td>0.0</td>\n",
       "      <td>0.0</td>\n",
       "      <td>1383531</td>\n",
       "      <td>1424944</td>\n",
       "      <td>1395839</td>\n",
       "      <td>1414383</td>\n",
       "      <td>...</td>\n",
       "      <td>1.090035</td>\n",
       "      <td>1.091283</td>\n",
       "      <td>1.341472</td>\n",
       "      <td>-0.420875</td>\n",
       "      <td>-0.580562</td>\n",
       "      <td>-1.313050</td>\n",
       "      <td>2.317801</td>\n",
       "      <td>0.621971</td>\n",
       "      <td>0.509473</td>\n",
       "      <td>-0.221767</td>\n",
       "    </tr>\n",
       "    <tr>\n",
       "      <th>3</th>\n",
       "      <td>AR</td>\n",
       "      <td>Arkansas</td>\n",
       "      <td>3.0</td>\n",
       "      <td>7.0</td>\n",
       "      <td>0.0</td>\n",
       "      <td>0.0</td>\n",
       "      <td>1120632</td>\n",
       "      <td>1122544</td>\n",
       "      <td>1067642</td>\n",
       "      <td>1096438</td>\n",
       "      <td>...</td>\n",
       "      <td>2.141877</td>\n",
       "      <td>2.129805</td>\n",
       "      <td>1.369514</td>\n",
       "      <td>5.131282</td>\n",
       "      <td>3.910476</td>\n",
       "      <td>6.280636</td>\n",
       "      <td>3.336628</td>\n",
       "      <td>7.155212</td>\n",
       "      <td>6.052353</td>\n",
       "      <td>8.410441</td>\n",
       "    </tr>\n",
       "    <tr>\n",
       "      <th>4</th>\n",
       "      <td>CA</td>\n",
       "      <td>California</td>\n",
       "      <td>4.0</td>\n",
       "      <td>9.0</td>\n",
       "      <td>1.0</td>\n",
       "      <td>0.0</td>\n",
       "      <td>7760629</td>\n",
       "      <td>7777115</td>\n",
       "      <td>7564063</td>\n",
       "      <td>7665241</td>\n",
       "      <td>...</td>\n",
       "      <td>4.207353</td>\n",
       "      <td>4.177389</td>\n",
       "      <td>-1.162079</td>\n",
       "      <td>-1.173951</td>\n",
       "      <td>-1.341226</td>\n",
       "      <td>-0.830982</td>\n",
       "      <td>2.761377</td>\n",
       "      <td>2.772770</td>\n",
       "      <td>2.866127</td>\n",
       "      <td>3.346406</td>\n",
       "    </tr>\n",
       "  </tbody>\n",
       "</table>\n",
       "<p>5 rows × 192 columns</p>\n",
       "</div>"
      ],
      "text/plain": [
       "  StateCodes       State  Region  Division  Coast  Great Lakes  TotalC2010  \\\n",
       "0         AL     Alabama     3.0       6.0    1.0          0.0     1931522   \n",
       "1         AK      Alaska     4.0       9.0    1.0          0.0      653221   \n",
       "2         AZ     Arizona     4.0       8.0    0.0          0.0     1383531   \n",
       "3         AR    Arkansas     3.0       7.0    0.0          0.0     1120632   \n",
       "4         CA  California     4.0       9.0    1.0          0.0     7760629   \n",
       "\n",
       "   TotalC2011  TotalC2012  TotalC2013     ...       RINTERNATIONALMIG2013  \\\n",
       "0     1905207     1879716     1919365     ...                    1.165832   \n",
       "1      653637      649341      621107     ...                    3.203618   \n",
       "2     1424944     1395839     1414383     ...                    1.090035   \n",
       "3     1122544     1067642     1096438     ...                    2.141877   \n",
       "4     7777115     7564063     7665241     ...                    4.207353   \n",
       "\n",
       "   RINTERNATIONALMIG2014  RDOMESTICMIG2011  RDOMESTICMIG2012  \\\n",
       "0               1.157861         -0.020443         -0.168414   \n",
       "1               2.869760         -1.175137         -1.949571   \n",
       "2               1.091283          1.341472         -0.420875   \n",
       "3               2.129805          1.369514          5.131282   \n",
       "4               4.177389         -1.162079         -1.173951   \n",
       "\n",
       "   RDOMESTICMIG2013  RDOMESTICMIG2014  RNETMIG2011  RNETMIG2012  RNETMIG2013  \\\n",
       "0          0.396416          0.420102     1.011941     1.001333     1.562247   \n",
       "1         -3.789313        -13.754494     0.948185     1.835376    -0.585695   \n",
       "2         -0.580562         -1.313050     2.317801     0.621971     0.509473   \n",
       "3          3.910476          6.280636     3.336628     7.155212     6.052353   \n",
       "4         -1.341226         -0.830982     2.761377     2.772770     2.866127   \n",
       "\n",
       "   RNETMIG2014  \n",
       "0     1.577963  \n",
       "1   -10.884734  \n",
       "2    -0.221767  \n",
       "3     8.410441  \n",
       "4     3.346406  \n",
       "\n",
       "[5 rows x 192 columns]"
      ]
     },
     "execution_count": 2,
     "metadata": {},
     "output_type": "execute_result"
    }
   ],
   "source": [
    "# Read CSV\n",
    "census_csv = \"resources/Energy Census and Economic Data US 2010-2014.csv\"\n",
    "df = pd.read_csv(census_csv)\n",
    "df.head()"
   ]
  },
  {
   "cell_type": "code",
   "execution_count": 3,
   "metadata": {},
   "outputs": [
    {
     "data": {
      "text/html": [
       "<div>\n",
       "<style scoped>\n",
       "    .dataframe tbody tr th:only-of-type {\n",
       "        vertical-align: middle;\n",
       "    }\n",
       "\n",
       "    .dataframe tbody tr th {\n",
       "        vertical-align: top;\n",
       "    }\n",
       "\n",
       "    .dataframe thead th {\n",
       "        text-align: right;\n",
       "    }\n",
       "</style>\n",
       "<table border=\"1\" class=\"dataframe\">\n",
       "  <thead>\n",
       "    <tr style=\"text-align: right;\">\n",
       "      <th></th>\n",
       "      <th>StateCodes</th>\n",
       "      <th>Region</th>\n",
       "      <th>Division</th>\n",
       "      <th>Coast</th>\n",
       "      <th>Great Lakes</th>\n",
       "      <th>TotalC2010</th>\n",
       "      <th>TotalC2011</th>\n",
       "      <th>TotalC2012</th>\n",
       "      <th>TotalC2013</th>\n",
       "      <th>TotalC2014</th>\n",
       "      <th>...</th>\n",
       "      <th>RINTERNATIONALMIG2013</th>\n",
       "      <th>RINTERNATIONALMIG2014</th>\n",
       "      <th>RDOMESTICMIG2011</th>\n",
       "      <th>RDOMESTICMIG2012</th>\n",
       "      <th>RDOMESTICMIG2013</th>\n",
       "      <th>RDOMESTICMIG2014</th>\n",
       "      <th>RNETMIG2011</th>\n",
       "      <th>RNETMIG2012</th>\n",
       "      <th>RNETMIG2013</th>\n",
       "      <th>RNETMIG2014</th>\n",
       "    </tr>\n",
       "  </thead>\n",
       "  <tbody>\n",
       "    <tr>\n",
       "      <th>0</th>\n",
       "      <td>AL</td>\n",
       "      <td>3.0</td>\n",
       "      <td>6.0</td>\n",
       "      <td>1.0</td>\n",
       "      <td>0.0</td>\n",
       "      <td>1931522</td>\n",
       "      <td>1905207</td>\n",
       "      <td>1879716</td>\n",
       "      <td>1919365</td>\n",
       "      <td>1958221</td>\n",
       "      <td>...</td>\n",
       "      <td>1.165832</td>\n",
       "      <td>1.157861</td>\n",
       "      <td>-0.020443</td>\n",
       "      <td>-0.168414</td>\n",
       "      <td>0.396416</td>\n",
       "      <td>0.420102</td>\n",
       "      <td>1.011941</td>\n",
       "      <td>1.001333</td>\n",
       "      <td>1.562247</td>\n",
       "      <td>1.577963</td>\n",
       "    </tr>\n",
       "    <tr>\n",
       "      <th>6</th>\n",
       "      <td>CT</td>\n",
       "      <td>1.0</td>\n",
       "      <td>1.0</td>\n",
       "      <td>1.0</td>\n",
       "      <td>0.0</td>\n",
       "      <td>764970</td>\n",
       "      <td>739130</td>\n",
       "      <td>725019</td>\n",
       "      <td>754901</td>\n",
       "      <td>750019</td>\n",
       "      <td>...</td>\n",
       "      <td>4.753602</td>\n",
       "      <td>4.730950</td>\n",
       "      <td>-3.384435</td>\n",
       "      <td>-5.611492</td>\n",
       "      <td>-4.731638</td>\n",
       "      <td>-7.286252</td>\n",
       "      <td>1.116894</td>\n",
       "      <td>-1.059166</td>\n",
       "      <td>0.021964</td>\n",
       "      <td>-2.555302</td>\n",
       "    </tr>\n",
       "    <tr>\n",
       "      <th>8</th>\n",
       "      <td>FL</td>\n",
       "      <td>3.0</td>\n",
       "      <td>5.0</td>\n",
       "      <td>1.0</td>\n",
       "      <td>0.0</td>\n",
       "      <td>4282673</td>\n",
       "      <td>4141711</td>\n",
       "      <td>4029903</td>\n",
       "      <td>4076406</td>\n",
       "      <td>4121680</td>\n",
       "      <td>...</td>\n",
       "      <td>5.783717</td>\n",
       "      <td>5.687300</td>\n",
       "      <td>5.540393</td>\n",
       "      <td>5.125320</td>\n",
       "      <td>4.918783</td>\n",
       "      <td>7.016123</td>\n",
       "      <td>11.359606</td>\n",
       "      <td>10.722573</td>\n",
       "      <td>10.702501</td>\n",
       "      <td>12.703423</td>\n",
       "    </tr>\n",
       "  </tbody>\n",
       "</table>\n",
       "<p>3 rows × 191 columns</p>\n",
       "</div>"
      ],
      "text/plain": [
       "  StateCodes  Region  Division  Coast  Great Lakes  TotalC2010  TotalC2011  \\\n",
       "0         AL     3.0       6.0    1.0          0.0     1931522     1905207   \n",
       "6         CT     1.0       1.0    1.0          0.0      764970      739130   \n",
       "8         FL     3.0       5.0    1.0          0.0     4282673     4141711   \n",
       "\n",
       "   TotalC2012  TotalC2013  TotalC2014     ...       RINTERNATIONALMIG2013  \\\n",
       "0     1879716     1919365     1958221     ...                    1.165832   \n",
       "6      725019      754901      750019     ...                    4.753602   \n",
       "8     4029903     4076406     4121680     ...                    5.783717   \n",
       "\n",
       "   RINTERNATIONALMIG2014  RDOMESTICMIG2011  RDOMESTICMIG2012  \\\n",
       "0               1.157861         -0.020443         -0.168414   \n",
       "6               4.730950         -3.384435         -5.611492   \n",
       "8               5.687300          5.540393          5.125320   \n",
       "\n",
       "   RDOMESTICMIG2013  RDOMESTICMIG2014  RNETMIG2011  RNETMIG2012  RNETMIG2013  \\\n",
       "0          0.396416          0.420102     1.011941     1.001333     1.562247   \n",
       "6         -4.731638         -7.286252     1.116894    -1.059166     0.021964   \n",
       "8          4.918783          7.016123    11.359606    10.722573    10.702501   \n",
       "\n",
       "   RNETMIG2014  \n",
       "0     1.577963  \n",
       "6    -2.555302  \n",
       "8    12.703423  \n",
       "\n",
       "[3 rows x 191 columns]"
      ]
     },
     "execution_count": 3,
     "metadata": {},
     "output_type": "execute_result"
    }
   ],
   "source": [
    "# Filter for Eastern coastal states\n",
    "# Create mask for desired states\n",
    "df_filter = df['StateCodes'].apply(lambda state: state in ['MN','NH','VT','MA','RI','CT','NY','NJ','PA','MD','OH','VA','WV','NC','SC','GA','FL', 'TX', 'LA', 'MI', 'AL'])\n",
    "\n",
    "# Apply filter to df\n",
    "df = df[df_filter]\n",
    "df = df.drop('State', axis=1)\n",
    "df.head(3)"
   ]
  },
  {
   "cell_type": "code",
   "execution_count": 4,
   "metadata": {},
   "outputs": [
    {
     "data": {
      "text/html": [
       "<div>\n",
       "<style scoped>\n",
       "    .dataframe tbody tr th:only-of-type {\n",
       "        vertical-align: middle;\n",
       "    }\n",
       "\n",
       "    .dataframe tbody tr th {\n",
       "        vertical-align: top;\n",
       "    }\n",
       "\n",
       "    .dataframe thead th {\n",
       "        text-align: right;\n",
       "    }\n",
       "</style>\n",
       "<table border=\"1\" class=\"dataframe\">\n",
       "  <thead>\n",
       "    <tr style=\"text-align: right;\">\n",
       "      <th></th>\n",
       "      <th>State</th>\n",
       "      <th>Region</th>\n",
       "      <th>Division</th>\n",
       "      <th>Coast</th>\n",
       "      <th>Great Lakes</th>\n",
       "      <th>TotalC2010</th>\n",
       "      <th>TotalC2011</th>\n",
       "      <th>TotalC2012</th>\n",
       "      <th>TotalC2013</th>\n",
       "      <th>TotalC2014</th>\n",
       "      <th>...</th>\n",
       "      <th>RINTERNATIONALMIG2013</th>\n",
       "      <th>RINTERNATIONALMIG2014</th>\n",
       "      <th>RDOMESTICMIG2011</th>\n",
       "      <th>RDOMESTICMIG2012</th>\n",
       "      <th>RDOMESTICMIG2013</th>\n",
       "      <th>RDOMESTICMIG2014</th>\n",
       "      <th>RNETMIG2011</th>\n",
       "      <th>RNETMIG2012</th>\n",
       "      <th>RNETMIG2013</th>\n",
       "      <th>RNETMIG2014</th>\n",
       "    </tr>\n",
       "  </thead>\n",
       "  <tbody>\n",
       "    <tr>\n",
       "      <th>0</th>\n",
       "      <td>AL</td>\n",
       "      <td>3.0</td>\n",
       "      <td>6.0</td>\n",
       "      <td>1.0</td>\n",
       "      <td>0.0</td>\n",
       "      <td>1931522</td>\n",
       "      <td>1905207</td>\n",
       "      <td>1879716</td>\n",
       "      <td>1919365</td>\n",
       "      <td>1958221</td>\n",
       "      <td>...</td>\n",
       "      <td>1.165832</td>\n",
       "      <td>1.157861</td>\n",
       "      <td>-0.020443</td>\n",
       "      <td>-0.168414</td>\n",
       "      <td>0.396416</td>\n",
       "      <td>0.420102</td>\n",
       "      <td>1.011941</td>\n",
       "      <td>1.001333</td>\n",
       "      <td>1.562247</td>\n",
       "      <td>1.577963</td>\n",
       "    </tr>\n",
       "    <tr>\n",
       "      <th>6</th>\n",
       "      <td>CT</td>\n",
       "      <td>1.0</td>\n",
       "      <td>1.0</td>\n",
       "      <td>1.0</td>\n",
       "      <td>0.0</td>\n",
       "      <td>764970</td>\n",
       "      <td>739130</td>\n",
       "      <td>725019</td>\n",
       "      <td>754901</td>\n",
       "      <td>750019</td>\n",
       "      <td>...</td>\n",
       "      <td>4.753602</td>\n",
       "      <td>4.730950</td>\n",
       "      <td>-3.384435</td>\n",
       "      <td>-5.611492</td>\n",
       "      <td>-4.731638</td>\n",
       "      <td>-7.286252</td>\n",
       "      <td>1.116894</td>\n",
       "      <td>-1.059166</td>\n",
       "      <td>0.021964</td>\n",
       "      <td>-2.555302</td>\n",
       "    </tr>\n",
       "    <tr>\n",
       "      <th>8</th>\n",
       "      <td>FL</td>\n",
       "      <td>3.0</td>\n",
       "      <td>5.0</td>\n",
       "      <td>1.0</td>\n",
       "      <td>0.0</td>\n",
       "      <td>4282673</td>\n",
       "      <td>4141711</td>\n",
       "      <td>4029903</td>\n",
       "      <td>4076406</td>\n",
       "      <td>4121680</td>\n",
       "      <td>...</td>\n",
       "      <td>5.783717</td>\n",
       "      <td>5.687300</td>\n",
       "      <td>5.540393</td>\n",
       "      <td>5.125320</td>\n",
       "      <td>4.918783</td>\n",
       "      <td>7.016123</td>\n",
       "      <td>11.359606</td>\n",
       "      <td>10.722573</td>\n",
       "      <td>10.702501</td>\n",
       "      <td>12.703423</td>\n",
       "    </tr>\n",
       "  </tbody>\n",
       "</table>\n",
       "<p>3 rows × 191 columns</p>\n",
       "</div>"
      ],
      "text/plain": [
       "  State  Region  Division  Coast  Great Lakes  TotalC2010  TotalC2011  \\\n",
       "0    AL     3.0       6.0    1.0          0.0     1931522     1905207   \n",
       "6    CT     1.0       1.0    1.0          0.0      764970      739130   \n",
       "8    FL     3.0       5.0    1.0          0.0     4282673     4141711   \n",
       "\n",
       "   TotalC2012  TotalC2013  TotalC2014     ...       RINTERNATIONALMIG2013  \\\n",
       "0     1879716     1919365     1958221     ...                    1.165832   \n",
       "6      725019      754901      750019     ...                    4.753602   \n",
       "8     4029903     4076406     4121680     ...                    5.783717   \n",
       "\n",
       "   RINTERNATIONALMIG2014  RDOMESTICMIG2011  RDOMESTICMIG2012  \\\n",
       "0               1.157861         -0.020443         -0.168414   \n",
       "6               4.730950         -3.384435         -5.611492   \n",
       "8               5.687300          5.540393          5.125320   \n",
       "\n",
       "   RDOMESTICMIG2013  RDOMESTICMIG2014  RNETMIG2011  RNETMIG2012  RNETMIG2013  \\\n",
       "0          0.396416          0.420102     1.011941     1.001333     1.562247   \n",
       "6         -4.731638         -7.286252     1.116894    -1.059166     0.021964   \n",
       "8          4.918783          7.016123    11.359606    10.722573    10.702501   \n",
       "\n",
       "   RNETMIG2014  \n",
       "0     1.577963  \n",
       "6    -2.555302  \n",
       "8    12.703423  \n",
       "\n",
       "[3 rows x 191 columns]"
      ]
     },
     "execution_count": 4,
     "metadata": {},
     "output_type": "execute_result"
    }
   ],
   "source": [
    "# Rename 'StateCodes' to 'State'\n",
    "df = df.rename(columns={'StateCodes':'State'})\n",
    "df.head(3)"
   ]
  },
  {
   "cell_type": "code",
   "execution_count": 12,
   "metadata": {},
   "outputs": [
    {
     "data": {
      "text/html": [
       "<div>\n",
       "<style scoped>\n",
       "    .dataframe tbody tr th:only-of-type {\n",
       "        vertical-align: middle;\n",
       "    }\n",
       "\n",
       "    .dataframe tbody tr th {\n",
       "        vertical-align: top;\n",
       "    }\n",
       "\n",
       "    .dataframe thead th {\n",
       "        text-align: right;\n",
       "    }\n",
       "</style>\n",
       "<table border=\"1\" class=\"dataframe\">\n",
       "  <thead>\n",
       "    <tr style=\"text-align: right;\">\n",
       "      <th></th>\n",
       "      <th>State</th>\n",
       "      <th>CoalP2010</th>\n",
       "      <th>CoalP2011</th>\n",
       "      <th>CoalP2012</th>\n",
       "      <th>CoalP2013</th>\n",
       "      <th>CoalP2014</th>\n",
       "    </tr>\n",
       "  </thead>\n",
       "  <tbody>\n",
       "    <tr>\n",
       "      <th>0</th>\n",
       "      <td>AL</td>\n",
       "      <td>493094</td>\n",
       "      <td>468671</td>\n",
       "      <td>488084</td>\n",
       "      <td>469162</td>\n",
       "      <td>414366</td>\n",
       "    </tr>\n",
       "    <tr>\n",
       "      <th>6</th>\n",
       "      <td>CT</td>\n",
       "      <td>0</td>\n",
       "      <td>0</td>\n",
       "      <td>0</td>\n",
       "      <td>0</td>\n",
       "      <td>0</td>\n",
       "    </tr>\n",
       "    <tr>\n",
       "      <th>8</th>\n",
       "      <td>FL</td>\n",
       "      <td>0</td>\n",
       "      <td>0</td>\n",
       "      <td>0</td>\n",
       "      <td>0</td>\n",
       "      <td>0</td>\n",
       "    </tr>\n",
       "  </tbody>\n",
       "</table>\n",
       "</div>"
      ],
      "text/plain": [
       "  State  CoalP2010  CoalP2011  CoalP2012  CoalP2013  CoalP2014\n",
       "0    AL     493094     468671     488084     469162     414366\n",
       "6    CT          0          0          0          0          0\n",
       "8    FL          0          0          0          0          0"
      ]
     },
     "execution_count": 12,
     "metadata": {},
     "output_type": "execute_result"
    }
   ],
   "source": [
    "# Total Production dataframe\n",
    "totalc_df = df.loc[:, ['State', 'CoalP2010', 'CoalP2011', 'CoalP2012', 'CoalP2013', 'CoalP2014']]\n",
    "totalc_df.head(3)"
   ]
  },
  {
   "cell_type": "code",
   "execution_count": 14,
   "metadata": {},
   "outputs": [],
   "source": [
    "# Export Total Production CSV\n",
    "totalc_df.to_csv(r'exports/coal_production.csv')"
   ]
  },
  {
   "cell_type": "code",
   "execution_count": 15,
   "metadata": {},
   "outputs": [
    {
     "data": {
      "text/html": [
       "<div>\n",
       "<style scoped>\n",
       "    .dataframe tbody tr th:only-of-type {\n",
       "        vertical-align: middle;\n",
       "    }\n",
       "\n",
       "    .dataframe tbody tr th {\n",
       "        vertical-align: top;\n",
       "    }\n",
       "\n",
       "    .dataframe thead th {\n",
       "        text-align: right;\n",
       "    }\n",
       "</style>\n",
       "<table border=\"1\" class=\"dataframe\">\n",
       "  <thead>\n",
       "    <tr style=\"text-align: right;\">\n",
       "      <th></th>\n",
       "      <th>State</th>\n",
       "      <th>CoalP2010</th>\n",
       "      <th>CoalP2011</th>\n",
       "      <th>CoalP2012</th>\n",
       "      <th>CoalP2013</th>\n",
       "      <th>CoalP2014</th>\n",
       "      <th>Average Total Coal Production</th>\n",
       "    </tr>\n",
       "  </thead>\n",
       "  <tbody>\n",
       "    <tr>\n",
       "      <th>0</th>\n",
       "      <td>AL</td>\n",
       "      <td>493094</td>\n",
       "      <td>468671</td>\n",
       "      <td>488084</td>\n",
       "      <td>469162</td>\n",
       "      <td>414366</td>\n",
       "      <td>466675.4</td>\n",
       "    </tr>\n",
       "    <tr>\n",
       "      <th>6</th>\n",
       "      <td>CT</td>\n",
       "      <td>0</td>\n",
       "      <td>0</td>\n",
       "      <td>0</td>\n",
       "      <td>0</td>\n",
       "      <td>0</td>\n",
       "      <td>0.0</td>\n",
       "    </tr>\n",
       "    <tr>\n",
       "      <th>8</th>\n",
       "      <td>FL</td>\n",
       "      <td>0</td>\n",
       "      <td>0</td>\n",
       "      <td>0</td>\n",
       "      <td>0</td>\n",
       "      <td>0</td>\n",
       "      <td>0.0</td>\n",
       "    </tr>\n",
       "  </tbody>\n",
       "</table>\n",
       "</div>"
      ],
      "text/plain": [
       "  State  CoalP2010  CoalP2011  CoalP2012  CoalP2013  CoalP2014  \\\n",
       "0    AL     493094     468671     488084     469162     414366   \n",
       "6    CT          0          0          0          0          0   \n",
       "8    FL          0          0          0          0          0   \n",
       "\n",
       "   Average Total Coal Production  \n",
       "0                       466675.4  \n",
       "6                            0.0  \n",
       "8                            0.0  "
      ]
     },
     "execution_count": 15,
     "metadata": {},
     "output_type": "execute_result"
    }
   ],
   "source": [
    "# Average total production per state\n",
    "totalc_col = df.loc[:, 'CoalP2010':'CoalP2014']\n",
    "totalc_df['Average Total Coal Production'] = totalc_col.mean(axis=1)\n",
    "totalc_df.head(3)"
   ]
  },
  {
   "cell_type": "code",
   "execution_count": 16,
   "metadata": {},
   "outputs": [
    {
     "name": "stdout",
     "output_type": "stream",
     "text": [
      "CoalP2010    7185661\n",
      "CoalP2011    7266857\n",
      "CoalP2012    6759191\n",
      "CoalP2013    6440332\n",
      "CoalP2014    6432430\n",
      "dtype: int64\n"
     ]
    },
    {
     "data": {
      "text/html": [
       "<div>\n",
       "<style scoped>\n",
       "    .dataframe tbody tr th:only-of-type {\n",
       "        vertical-align: middle;\n",
       "    }\n",
       "\n",
       "    .dataframe tbody tr th {\n",
       "        vertical-align: top;\n",
       "    }\n",
       "\n",
       "    .dataframe thead th {\n",
       "        text-align: right;\n",
       "    }\n",
       "</style>\n",
       "<table border=\"1\" class=\"dataframe\">\n",
       "  <thead>\n",
       "    <tr style=\"text-align: right;\">\n",
       "      <th></th>\n",
       "      <th>State</th>\n",
       "      <th>CoalP2010</th>\n",
       "      <th>CoalP2011</th>\n",
       "      <th>CoalP2012</th>\n",
       "      <th>CoalP2013</th>\n",
       "      <th>CoalP2014</th>\n",
       "      <th>Average Total Coal Production</th>\n",
       "    </tr>\n",
       "  </thead>\n",
       "  <tbody>\n",
       "    <tr>\n",
       "      <th>47</th>\n",
       "      <td>WV</td>\n",
       "      <td>3346117</td>\n",
       "      <td>3321102</td>\n",
       "      <td>3059090</td>\n",
       "      <td>2874653</td>\n",
       "      <td>2858022</td>\n",
       "      <td>3091796.8</td>\n",
       "    </tr>\n",
       "    <tr>\n",
       "      <th>37</th>\n",
       "      <td>PA</td>\n",
       "      <td>1485775</td>\n",
       "      <td>1511491</td>\n",
       "      <td>1390644</td>\n",
       "      <td>1379262</td>\n",
       "      <td>1566449</td>\n",
       "      <td>1466724.2</td>\n",
       "    </tr>\n",
       "    <tr>\n",
       "      <th>34</th>\n",
       "      <td>OH</td>\n",
       "      <td>644947</td>\n",
       "      <td>679187</td>\n",
       "      <td>642149</td>\n",
       "      <td>612270</td>\n",
       "      <td>541830</td>\n",
       "      <td>624076.6</td>\n",
       "    </tr>\n",
       "    <tr>\n",
       "      <th>42</th>\n",
       "      <td>TX</td>\n",
       "      <td>538258</td>\n",
       "      <td>605290</td>\n",
       "      <td>578697</td>\n",
       "      <td>564850</td>\n",
       "      <td>576803</td>\n",
       "      <td>572779.6</td>\n",
       "    </tr>\n",
       "    <tr>\n",
       "      <th>45</th>\n",
       "      <td>VA</td>\n",
       "      <td>564326</td>\n",
       "      <td>562805</td>\n",
       "      <td>493398</td>\n",
       "      <td>456766</td>\n",
       "      <td>393225</td>\n",
       "      <td>494104.0</td>\n",
       "    </tr>\n",
       "  </tbody>\n",
       "</table>\n",
       "</div>"
      ],
      "text/plain": [
       "   State  CoalP2010  CoalP2011  CoalP2012  CoalP2013  CoalP2014  \\\n",
       "47    WV    3346117    3321102    3059090    2874653    2858022   \n",
       "37    PA    1485775    1511491    1390644    1379262    1566449   \n",
       "34    OH     644947     679187     642149     612270     541830   \n",
       "42    TX     538258     605290     578697     564850     576803   \n",
       "45    VA     564326     562805     493398     456766     393225   \n",
       "\n",
       "    Average Total Coal Production  \n",
       "47                      3091796.8  \n",
       "37                      1466724.2  \n",
       "34                       624076.6  \n",
       "42                       572779.6  \n",
       "45                       494104.0  "
      ]
     },
     "execution_count": 16,
     "metadata": {},
     "output_type": "execute_result"
    }
   ],
   "source": [
    "# Total production of all states by year\n",
    "totalc_year_col = totalc_df.loc[:, 'CoalP2010':'CoalP2014'].sum()\n",
    "print(totalc_year_col)\n",
    "\n",
    "# Average total production of all states\n",
    "avg_totalc_year = totalc_year_col.mean()\n",
    "\n",
    "# Sort by 'Average Total Production'\n",
    "totalc_df.sort_values(by=['Average Total Coal Production'], inplace=True, ascending=False)\n",
    "\n",
    "totalc_df.head()"
   ]
  },
  {
   "cell_type": "code",
   "execution_count": 18,
   "metadata": {},
   "outputs": [
    {
     "data": {
      "application/vnd.plotly.v1+json": {
       "config": {
        "plotlyServerURL": "https://plot.ly"
       },
       "data": [
        {
         "type": "bar",
         "x": [
          "WV",
          "PA",
          "OH",
          "TX",
          "VA",
          "AL",
          "MD",
          "LA",
          "MA",
          "MI",
          "MN",
          "NH",
          "CT",
          "NY",
          "NC",
          "RI",
          "SC",
          "GA",
          "VT",
          "FL",
          "NJ"
         ],
         "y": [
          3091796.8,
          1466724.2,
          624076.6,
          572779.6,
          494104,
          466675.4,
          54048.2,
          46689.4,
          0,
          0,
          0,
          0,
          0,
          0,
          0,
          0,
          0,
          0,
          0,
          0,
          0
         ]
        }
       ],
       "layout": {
        "height": 500,
        "showlegend": false,
        "template": {
         "data": {
          "bar": [
           {
            "error_x": {
             "color": "#2a3f5f"
            },
            "error_y": {
             "color": "#2a3f5f"
            },
            "marker": {
             "line": {
              "color": "#E5ECF6",
              "width": 0.5
             }
            },
            "type": "bar"
           }
          ],
          "barpolar": [
           {
            "marker": {
             "line": {
              "color": "#E5ECF6",
              "width": 0.5
             }
            },
            "type": "barpolar"
           }
          ],
          "carpet": [
           {
            "aaxis": {
             "endlinecolor": "#2a3f5f",
             "gridcolor": "white",
             "linecolor": "white",
             "minorgridcolor": "white",
             "startlinecolor": "#2a3f5f"
            },
            "baxis": {
             "endlinecolor": "#2a3f5f",
             "gridcolor": "white",
             "linecolor": "white",
             "minorgridcolor": "white",
             "startlinecolor": "#2a3f5f"
            },
            "type": "carpet"
           }
          ],
          "choropleth": [
           {
            "colorbar": {
             "outlinewidth": 0,
             "ticks": ""
            },
            "type": "choropleth"
           }
          ],
          "contour": [
           {
            "colorbar": {
             "outlinewidth": 0,
             "ticks": ""
            },
            "colorscale": [
             [
              0,
              "#0d0887"
             ],
             [
              0.1111111111111111,
              "#46039f"
             ],
             [
              0.2222222222222222,
              "#7201a8"
             ],
             [
              0.3333333333333333,
              "#9c179e"
             ],
             [
              0.4444444444444444,
              "#bd3786"
             ],
             [
              0.5555555555555556,
              "#d8576b"
             ],
             [
              0.6666666666666666,
              "#ed7953"
             ],
             [
              0.7777777777777778,
              "#fb9f3a"
             ],
             [
              0.8888888888888888,
              "#fdca26"
             ],
             [
              1,
              "#f0f921"
             ]
            ],
            "type": "contour"
           }
          ],
          "contourcarpet": [
           {
            "colorbar": {
             "outlinewidth": 0,
             "ticks": ""
            },
            "type": "contourcarpet"
           }
          ],
          "heatmap": [
           {
            "colorbar": {
             "outlinewidth": 0,
             "ticks": ""
            },
            "colorscale": [
             [
              0,
              "#0d0887"
             ],
             [
              0.1111111111111111,
              "#46039f"
             ],
             [
              0.2222222222222222,
              "#7201a8"
             ],
             [
              0.3333333333333333,
              "#9c179e"
             ],
             [
              0.4444444444444444,
              "#bd3786"
             ],
             [
              0.5555555555555556,
              "#d8576b"
             ],
             [
              0.6666666666666666,
              "#ed7953"
             ],
             [
              0.7777777777777778,
              "#fb9f3a"
             ],
             [
              0.8888888888888888,
              "#fdca26"
             ],
             [
              1,
              "#f0f921"
             ]
            ],
            "type": "heatmap"
           }
          ],
          "heatmapgl": [
           {
            "colorbar": {
             "outlinewidth": 0,
             "ticks": ""
            },
            "colorscale": [
             [
              0,
              "#0d0887"
             ],
             [
              0.1111111111111111,
              "#46039f"
             ],
             [
              0.2222222222222222,
              "#7201a8"
             ],
             [
              0.3333333333333333,
              "#9c179e"
             ],
             [
              0.4444444444444444,
              "#bd3786"
             ],
             [
              0.5555555555555556,
              "#d8576b"
             ],
             [
              0.6666666666666666,
              "#ed7953"
             ],
             [
              0.7777777777777778,
              "#fb9f3a"
             ],
             [
              0.8888888888888888,
              "#fdca26"
             ],
             [
              1,
              "#f0f921"
             ]
            ],
            "type": "heatmapgl"
           }
          ],
          "histogram": [
           {
            "marker": {
             "colorbar": {
              "outlinewidth": 0,
              "ticks": ""
             }
            },
            "type": "histogram"
           }
          ],
          "histogram2d": [
           {
            "colorbar": {
             "outlinewidth": 0,
             "ticks": ""
            },
            "colorscale": [
             [
              0,
              "#0d0887"
             ],
             [
              0.1111111111111111,
              "#46039f"
             ],
             [
              0.2222222222222222,
              "#7201a8"
             ],
             [
              0.3333333333333333,
              "#9c179e"
             ],
             [
              0.4444444444444444,
              "#bd3786"
             ],
             [
              0.5555555555555556,
              "#d8576b"
             ],
             [
              0.6666666666666666,
              "#ed7953"
             ],
             [
              0.7777777777777778,
              "#fb9f3a"
             ],
             [
              0.8888888888888888,
              "#fdca26"
             ],
             [
              1,
              "#f0f921"
             ]
            ],
            "type": "histogram2d"
           }
          ],
          "histogram2dcontour": [
           {
            "colorbar": {
             "outlinewidth": 0,
             "ticks": ""
            },
            "colorscale": [
             [
              0,
              "#0d0887"
             ],
             [
              0.1111111111111111,
              "#46039f"
             ],
             [
              0.2222222222222222,
              "#7201a8"
             ],
             [
              0.3333333333333333,
              "#9c179e"
             ],
             [
              0.4444444444444444,
              "#bd3786"
             ],
             [
              0.5555555555555556,
              "#d8576b"
             ],
             [
              0.6666666666666666,
              "#ed7953"
             ],
             [
              0.7777777777777778,
              "#fb9f3a"
             ],
             [
              0.8888888888888888,
              "#fdca26"
             ],
             [
              1,
              "#f0f921"
             ]
            ],
            "type": "histogram2dcontour"
           }
          ],
          "mesh3d": [
           {
            "colorbar": {
             "outlinewidth": 0,
             "ticks": ""
            },
            "type": "mesh3d"
           }
          ],
          "parcoords": [
           {
            "line": {
             "colorbar": {
              "outlinewidth": 0,
              "ticks": ""
             }
            },
            "type": "parcoords"
           }
          ],
          "scatter": [
           {
            "marker": {
             "colorbar": {
              "outlinewidth": 0,
              "ticks": ""
             }
            },
            "type": "scatter"
           }
          ],
          "scatter3d": [
           {
            "line": {
             "colorbar": {
              "outlinewidth": 0,
              "ticks": ""
             }
            },
            "marker": {
             "colorbar": {
              "outlinewidth": 0,
              "ticks": ""
             }
            },
            "type": "scatter3d"
           }
          ],
          "scattercarpet": [
           {
            "marker": {
             "colorbar": {
              "outlinewidth": 0,
              "ticks": ""
             }
            },
            "type": "scattercarpet"
           }
          ],
          "scattergeo": [
           {
            "marker": {
             "colorbar": {
              "outlinewidth": 0,
              "ticks": ""
             }
            },
            "type": "scattergeo"
           }
          ],
          "scattergl": [
           {
            "marker": {
             "colorbar": {
              "outlinewidth": 0,
              "ticks": ""
             }
            },
            "type": "scattergl"
           }
          ],
          "scattermapbox": [
           {
            "marker": {
             "colorbar": {
              "outlinewidth": 0,
              "ticks": ""
             }
            },
            "type": "scattermapbox"
           }
          ],
          "scatterpolar": [
           {
            "marker": {
             "colorbar": {
              "outlinewidth": 0,
              "ticks": ""
             }
            },
            "type": "scatterpolar"
           }
          ],
          "scatterpolargl": [
           {
            "marker": {
             "colorbar": {
              "outlinewidth": 0,
              "ticks": ""
             }
            },
            "type": "scatterpolargl"
           }
          ],
          "scatterternary": [
           {
            "marker": {
             "colorbar": {
              "outlinewidth": 0,
              "ticks": ""
             }
            },
            "type": "scatterternary"
           }
          ],
          "surface": [
           {
            "colorbar": {
             "outlinewidth": 0,
             "ticks": ""
            },
            "colorscale": [
             [
              0,
              "#0d0887"
             ],
             [
              0.1111111111111111,
              "#46039f"
             ],
             [
              0.2222222222222222,
              "#7201a8"
             ],
             [
              0.3333333333333333,
              "#9c179e"
             ],
             [
              0.4444444444444444,
              "#bd3786"
             ],
             [
              0.5555555555555556,
              "#d8576b"
             ],
             [
              0.6666666666666666,
              "#ed7953"
             ],
             [
              0.7777777777777778,
              "#fb9f3a"
             ],
             [
              0.8888888888888888,
              "#fdca26"
             ],
             [
              1,
              "#f0f921"
             ]
            ],
            "type": "surface"
           }
          ],
          "table": [
           {
            "cells": {
             "fill": {
              "color": "#EBF0F8"
             },
             "line": {
              "color": "white"
             }
            },
            "header": {
             "fill": {
              "color": "#C8D4E3"
             },
             "line": {
              "color": "white"
             }
            },
            "type": "table"
           }
          ]
         },
         "layout": {
          "annotationdefaults": {
           "arrowcolor": "#2a3f5f",
           "arrowhead": 0,
           "arrowwidth": 1
          },
          "colorscale": {
           "diverging": [
            [
             0,
             "#8e0152"
            ],
            [
             0.1,
             "#c51b7d"
            ],
            [
             0.2,
             "#de77ae"
            ],
            [
             0.3,
             "#f1b6da"
            ],
            [
             0.4,
             "#fde0ef"
            ],
            [
             0.5,
             "#f7f7f7"
            ],
            [
             0.6,
             "#e6f5d0"
            ],
            [
             0.7,
             "#b8e186"
            ],
            [
             0.8,
             "#7fbc41"
            ],
            [
             0.9,
             "#4d9221"
            ],
            [
             1,
             "#276419"
            ]
           ],
           "sequential": [
            [
             0,
             "#0d0887"
            ],
            [
             0.1111111111111111,
             "#46039f"
            ],
            [
             0.2222222222222222,
             "#7201a8"
            ],
            [
             0.3333333333333333,
             "#9c179e"
            ],
            [
             0.4444444444444444,
             "#bd3786"
            ],
            [
             0.5555555555555556,
             "#d8576b"
            ],
            [
             0.6666666666666666,
             "#ed7953"
            ],
            [
             0.7777777777777778,
             "#fb9f3a"
            ],
            [
             0.8888888888888888,
             "#fdca26"
            ],
            [
             1,
             "#f0f921"
            ]
           ],
           "sequentialminus": [
            [
             0,
             "#0d0887"
            ],
            [
             0.1111111111111111,
             "#46039f"
            ],
            [
             0.2222222222222222,
             "#7201a8"
            ],
            [
             0.3333333333333333,
             "#9c179e"
            ],
            [
             0.4444444444444444,
             "#bd3786"
            ],
            [
             0.5555555555555556,
             "#d8576b"
            ],
            [
             0.6666666666666666,
             "#ed7953"
            ],
            [
             0.7777777777777778,
             "#fb9f3a"
            ],
            [
             0.8888888888888888,
             "#fdca26"
            ],
            [
             1,
             "#f0f921"
            ]
           ]
          },
          "colorway": [
           "#636efa",
           "#EF553B",
           "#00cc96",
           "#ab63fa",
           "#FFA15A",
           "#19d3f3",
           "#FF6692",
           "#B6E880",
           "#FF97FF",
           "#FECB52"
          ],
          "font": {
           "color": "#2a3f5f"
          },
          "geo": {
           "bgcolor": "white",
           "lakecolor": "white",
           "landcolor": "#E5ECF6",
           "showlakes": true,
           "showland": true,
           "subunitcolor": "white"
          },
          "hoverlabel": {
           "align": "left"
          },
          "hovermode": "closest",
          "mapbox": {
           "style": "light"
          },
          "paper_bgcolor": "white",
          "plot_bgcolor": "#E5ECF6",
          "polar": {
           "angularaxis": {
            "gridcolor": "white",
            "linecolor": "white",
            "ticks": ""
           },
           "bgcolor": "#E5ECF6",
           "radialaxis": {
            "gridcolor": "white",
            "linecolor": "white",
            "ticks": ""
           }
          },
          "scene": {
           "xaxis": {
            "backgroundcolor": "#E5ECF6",
            "gridcolor": "white",
            "gridwidth": 2,
            "linecolor": "white",
            "showbackground": true,
            "ticks": "",
            "zerolinecolor": "white"
           },
           "yaxis": {
            "backgroundcolor": "#E5ECF6",
            "gridcolor": "white",
            "gridwidth": 2,
            "linecolor": "white",
            "showbackground": true,
            "ticks": "",
            "zerolinecolor": "white"
           },
           "zaxis": {
            "backgroundcolor": "#E5ECF6",
            "gridcolor": "white",
            "gridwidth": 2,
            "linecolor": "white",
            "showbackground": true,
            "ticks": "",
            "zerolinecolor": "white"
           }
          },
          "shapedefaults": {
           "line": {
            "color": "#2a3f5f"
           }
          },
          "ternary": {
           "aaxis": {
            "gridcolor": "white",
            "linecolor": "white",
            "ticks": ""
           },
           "baxis": {
            "gridcolor": "white",
            "linecolor": "white",
            "ticks": ""
           },
           "bgcolor": "#E5ECF6",
           "caxis": {
            "gridcolor": "white",
            "linecolor": "white",
            "ticks": ""
           }
          },
          "title": {
           "x": 0.05
          },
          "xaxis": {
           "automargin": true,
           "gridcolor": "white",
           "linecolor": "white",
           "ticks": "",
           "zerolinecolor": "white",
           "zerolinewidth": 2
          },
          "yaxis": {
           "automargin": true,
           "gridcolor": "white",
           "linecolor": "white",
           "ticks": "",
           "zerolinecolor": "white",
           "zerolinewidth": 2
          }
         }
        },
        "title": {
         "text": "<b>Average Total Coal Production by State</b>"
        },
        "width": 800,
        "yaxis": {
         "title": {
          "text": "Billion BTU"
         }
        }
       }
      },
      "text/html": [
       "<div>\n",
       "        \n",
       "        \n",
       "            <div id=\"6a7e92e7-f472-4cd0-a5a7-3a9d7a4d7bf6\" class=\"plotly-graph-div\" style=\"height:500px; width:800px;\"></div>\n",
       "            <script type=\"text/javascript\">\n",
       "                require([\"plotly\"], function(Plotly) {\n",
       "                    window.PLOTLYENV=window.PLOTLYENV || {};\n",
       "                    \n",
       "                if (document.getElementById(\"6a7e92e7-f472-4cd0-a5a7-3a9d7a4d7bf6\")) {\n",
       "                    Plotly.newPlot(\n",
       "                        '6a7e92e7-f472-4cd0-a5a7-3a9d7a4d7bf6',\n",
       "                        [{\"type\": \"bar\", \"x\": [\"WV\", \"PA\", \"OH\", \"TX\", \"VA\", \"AL\", \"MD\", \"LA\", \"MA\", \"MI\", \"MN\", \"NH\", \"CT\", \"NY\", \"NC\", \"RI\", \"SC\", \"GA\", \"VT\", \"FL\", \"NJ\"], \"y\": [3091796.8, 1466724.2, 624076.6, 572779.6, 494104.0, 466675.4, 54048.2, 46689.4, 0.0, 0.0, 0.0, 0.0, 0.0, 0.0, 0.0, 0.0, 0.0, 0.0, 0.0, 0.0, 0.0]}],\n",
       "                        {\"height\": 500, \"showlegend\": false, \"template\": {\"data\": {\"bar\": [{\"error_x\": {\"color\": \"#2a3f5f\"}, \"error_y\": {\"color\": \"#2a3f5f\"}, \"marker\": {\"line\": {\"color\": \"#E5ECF6\", \"width\": 0.5}}, \"type\": \"bar\"}], \"barpolar\": [{\"marker\": {\"line\": {\"color\": \"#E5ECF6\", \"width\": 0.5}}, \"type\": \"barpolar\"}], \"carpet\": [{\"aaxis\": {\"endlinecolor\": \"#2a3f5f\", \"gridcolor\": \"white\", \"linecolor\": \"white\", \"minorgridcolor\": \"white\", \"startlinecolor\": \"#2a3f5f\"}, \"baxis\": {\"endlinecolor\": \"#2a3f5f\", \"gridcolor\": \"white\", \"linecolor\": \"white\", \"minorgridcolor\": \"white\", \"startlinecolor\": \"#2a3f5f\"}, \"type\": \"carpet\"}], \"choropleth\": [{\"colorbar\": {\"outlinewidth\": 0, \"ticks\": \"\"}, \"type\": \"choropleth\"}], \"contour\": [{\"colorbar\": {\"outlinewidth\": 0, \"ticks\": \"\"}, \"colorscale\": [[0.0, \"#0d0887\"], [0.1111111111111111, \"#46039f\"], [0.2222222222222222, \"#7201a8\"], [0.3333333333333333, \"#9c179e\"], [0.4444444444444444, \"#bd3786\"], [0.5555555555555556, \"#d8576b\"], [0.6666666666666666, \"#ed7953\"], [0.7777777777777778, \"#fb9f3a\"], [0.8888888888888888, \"#fdca26\"], [1.0, \"#f0f921\"]], \"type\": \"contour\"}], \"contourcarpet\": [{\"colorbar\": {\"outlinewidth\": 0, \"ticks\": \"\"}, \"type\": \"contourcarpet\"}], \"heatmap\": [{\"colorbar\": {\"outlinewidth\": 0, \"ticks\": \"\"}, \"colorscale\": [[0.0, \"#0d0887\"], [0.1111111111111111, \"#46039f\"], [0.2222222222222222, \"#7201a8\"], [0.3333333333333333, \"#9c179e\"], [0.4444444444444444, \"#bd3786\"], [0.5555555555555556, \"#d8576b\"], [0.6666666666666666, \"#ed7953\"], [0.7777777777777778, \"#fb9f3a\"], [0.8888888888888888, \"#fdca26\"], [1.0, \"#f0f921\"]], \"type\": \"heatmap\"}], \"heatmapgl\": [{\"colorbar\": {\"outlinewidth\": 0, \"ticks\": \"\"}, \"colorscale\": [[0.0, \"#0d0887\"], [0.1111111111111111, \"#46039f\"], [0.2222222222222222, \"#7201a8\"], [0.3333333333333333, \"#9c179e\"], [0.4444444444444444, \"#bd3786\"], [0.5555555555555556, \"#d8576b\"], [0.6666666666666666, \"#ed7953\"], [0.7777777777777778, \"#fb9f3a\"], [0.8888888888888888, \"#fdca26\"], [1.0, \"#f0f921\"]], \"type\": \"heatmapgl\"}], \"histogram\": [{\"marker\": {\"colorbar\": {\"outlinewidth\": 0, \"ticks\": \"\"}}, \"type\": \"histogram\"}], \"histogram2d\": [{\"colorbar\": {\"outlinewidth\": 0, \"ticks\": \"\"}, \"colorscale\": [[0.0, \"#0d0887\"], [0.1111111111111111, \"#46039f\"], [0.2222222222222222, \"#7201a8\"], [0.3333333333333333, \"#9c179e\"], [0.4444444444444444, \"#bd3786\"], [0.5555555555555556, \"#d8576b\"], [0.6666666666666666, \"#ed7953\"], [0.7777777777777778, \"#fb9f3a\"], [0.8888888888888888, \"#fdca26\"], [1.0, \"#f0f921\"]], \"type\": \"histogram2d\"}], \"histogram2dcontour\": [{\"colorbar\": {\"outlinewidth\": 0, \"ticks\": \"\"}, \"colorscale\": [[0.0, \"#0d0887\"], [0.1111111111111111, \"#46039f\"], [0.2222222222222222, \"#7201a8\"], [0.3333333333333333, \"#9c179e\"], [0.4444444444444444, \"#bd3786\"], [0.5555555555555556, \"#d8576b\"], [0.6666666666666666, \"#ed7953\"], [0.7777777777777778, \"#fb9f3a\"], [0.8888888888888888, \"#fdca26\"], [1.0, \"#f0f921\"]], \"type\": \"histogram2dcontour\"}], \"mesh3d\": [{\"colorbar\": {\"outlinewidth\": 0, \"ticks\": \"\"}, \"type\": \"mesh3d\"}], \"parcoords\": [{\"line\": {\"colorbar\": {\"outlinewidth\": 0, \"ticks\": \"\"}}, \"type\": \"parcoords\"}], \"scatter\": [{\"marker\": {\"colorbar\": {\"outlinewidth\": 0, \"ticks\": \"\"}}, \"type\": \"scatter\"}], \"scatter3d\": [{\"line\": {\"colorbar\": {\"outlinewidth\": 0, \"ticks\": \"\"}}, \"marker\": {\"colorbar\": {\"outlinewidth\": 0, \"ticks\": \"\"}}, \"type\": \"scatter3d\"}], \"scattercarpet\": [{\"marker\": {\"colorbar\": {\"outlinewidth\": 0, \"ticks\": \"\"}}, \"type\": \"scattercarpet\"}], \"scattergeo\": [{\"marker\": {\"colorbar\": {\"outlinewidth\": 0, \"ticks\": \"\"}}, \"type\": \"scattergeo\"}], \"scattergl\": [{\"marker\": {\"colorbar\": {\"outlinewidth\": 0, \"ticks\": \"\"}}, \"type\": \"scattergl\"}], \"scattermapbox\": [{\"marker\": {\"colorbar\": {\"outlinewidth\": 0, \"ticks\": \"\"}}, \"type\": \"scattermapbox\"}], \"scatterpolar\": [{\"marker\": {\"colorbar\": {\"outlinewidth\": 0, \"ticks\": \"\"}}, \"type\": \"scatterpolar\"}], \"scatterpolargl\": [{\"marker\": {\"colorbar\": {\"outlinewidth\": 0, \"ticks\": \"\"}}, \"type\": \"scatterpolargl\"}], \"scatterternary\": [{\"marker\": {\"colorbar\": {\"outlinewidth\": 0, \"ticks\": \"\"}}, \"type\": \"scatterternary\"}], \"surface\": [{\"colorbar\": {\"outlinewidth\": 0, \"ticks\": \"\"}, \"colorscale\": [[0.0, \"#0d0887\"], [0.1111111111111111, \"#46039f\"], [0.2222222222222222, \"#7201a8\"], [0.3333333333333333, \"#9c179e\"], [0.4444444444444444, \"#bd3786\"], [0.5555555555555556, \"#d8576b\"], [0.6666666666666666, \"#ed7953\"], [0.7777777777777778, \"#fb9f3a\"], [0.8888888888888888, \"#fdca26\"], [1.0, \"#f0f921\"]], \"type\": \"surface\"}], \"table\": [{\"cells\": {\"fill\": {\"color\": \"#EBF0F8\"}, \"line\": {\"color\": \"white\"}}, \"header\": {\"fill\": {\"color\": \"#C8D4E3\"}, \"line\": {\"color\": \"white\"}}, \"type\": \"table\"}]}, \"layout\": {\"annotationdefaults\": {\"arrowcolor\": \"#2a3f5f\", \"arrowhead\": 0, \"arrowwidth\": 1}, \"colorscale\": {\"diverging\": [[0, \"#8e0152\"], [0.1, \"#c51b7d\"], [0.2, \"#de77ae\"], [0.3, \"#f1b6da\"], [0.4, \"#fde0ef\"], [0.5, \"#f7f7f7\"], [0.6, \"#e6f5d0\"], [0.7, \"#b8e186\"], [0.8, \"#7fbc41\"], [0.9, \"#4d9221\"], [1, \"#276419\"]], \"sequential\": [[0.0, \"#0d0887\"], [0.1111111111111111, \"#46039f\"], [0.2222222222222222, \"#7201a8\"], [0.3333333333333333, \"#9c179e\"], [0.4444444444444444, \"#bd3786\"], [0.5555555555555556, \"#d8576b\"], [0.6666666666666666, \"#ed7953\"], [0.7777777777777778, \"#fb9f3a\"], [0.8888888888888888, \"#fdca26\"], [1.0, \"#f0f921\"]], \"sequentialminus\": [[0.0, \"#0d0887\"], [0.1111111111111111, \"#46039f\"], [0.2222222222222222, \"#7201a8\"], [0.3333333333333333, \"#9c179e\"], [0.4444444444444444, \"#bd3786\"], [0.5555555555555556, \"#d8576b\"], [0.6666666666666666, \"#ed7953\"], [0.7777777777777778, \"#fb9f3a\"], [0.8888888888888888, \"#fdca26\"], [1.0, \"#f0f921\"]]}, \"colorway\": [\"#636efa\", \"#EF553B\", \"#00cc96\", \"#ab63fa\", \"#FFA15A\", \"#19d3f3\", \"#FF6692\", \"#B6E880\", \"#FF97FF\", \"#FECB52\"], \"font\": {\"color\": \"#2a3f5f\"}, \"geo\": {\"bgcolor\": \"white\", \"lakecolor\": \"white\", \"landcolor\": \"#E5ECF6\", \"showlakes\": true, \"showland\": true, \"subunitcolor\": \"white\"}, \"hoverlabel\": {\"align\": \"left\"}, \"hovermode\": \"closest\", \"mapbox\": {\"style\": \"light\"}, \"paper_bgcolor\": \"white\", \"plot_bgcolor\": \"#E5ECF6\", \"polar\": {\"angularaxis\": {\"gridcolor\": \"white\", \"linecolor\": \"white\", \"ticks\": \"\"}, \"bgcolor\": \"#E5ECF6\", \"radialaxis\": {\"gridcolor\": \"white\", \"linecolor\": \"white\", \"ticks\": \"\"}}, \"scene\": {\"xaxis\": {\"backgroundcolor\": \"#E5ECF6\", \"gridcolor\": \"white\", \"gridwidth\": 2, \"linecolor\": \"white\", \"showbackground\": true, \"ticks\": \"\", \"zerolinecolor\": \"white\"}, \"yaxis\": {\"backgroundcolor\": \"#E5ECF6\", \"gridcolor\": \"white\", \"gridwidth\": 2, \"linecolor\": \"white\", \"showbackground\": true, \"ticks\": \"\", \"zerolinecolor\": \"white\"}, \"zaxis\": {\"backgroundcolor\": \"#E5ECF6\", \"gridcolor\": \"white\", \"gridwidth\": 2, \"linecolor\": \"white\", \"showbackground\": true, \"ticks\": \"\", \"zerolinecolor\": \"white\"}}, \"shapedefaults\": {\"line\": {\"color\": \"#2a3f5f\"}}, \"ternary\": {\"aaxis\": {\"gridcolor\": \"white\", \"linecolor\": \"white\", \"ticks\": \"\"}, \"baxis\": {\"gridcolor\": \"white\", \"linecolor\": \"white\", \"ticks\": \"\"}, \"bgcolor\": \"#E5ECF6\", \"caxis\": {\"gridcolor\": \"white\", \"linecolor\": \"white\", \"ticks\": \"\"}}, \"title\": {\"x\": 0.05}, \"xaxis\": {\"automargin\": true, \"gridcolor\": \"white\", \"linecolor\": \"white\", \"ticks\": \"\", \"zerolinecolor\": \"white\", \"zerolinewidth\": 2}, \"yaxis\": {\"automargin\": true, \"gridcolor\": \"white\", \"linecolor\": \"white\", \"ticks\": \"\", \"zerolinecolor\": \"white\", \"zerolinewidth\": 2}}}, \"title\": {\"text\": \"<b>Average Total Coal Production by State</b>\"}, \"width\": 800, \"yaxis\": {\"title\": {\"text\": \"Billion BTU\"}}},\n",
       "                        {\"responsive\": true}\n",
       "                    ).then(function(){\n",
       "                            \n",
       "var gd = document.getElementById('6a7e92e7-f472-4cd0-a5a7-3a9d7a4d7bf6');\n",
       "var x = new MutationObserver(function (mutations, observer) {{\n",
       "        var display = window.getComputedStyle(gd).display;\n",
       "        if (!display || display === 'none') {{\n",
       "            console.log([gd, 'removed!']);\n",
       "            Plotly.purge(gd);\n",
       "            observer.disconnect();\n",
       "        }}\n",
       "}});\n",
       "\n",
       "// Listen for the removal of the full notebook cells\n",
       "var notebookContainer = gd.closest('#notebook-container');\n",
       "if (notebookContainer) {{\n",
       "    x.observe(notebookContainer, {childList: true});\n",
       "}}\n",
       "\n",
       "// Listen for the clearing of the current output cell\n",
       "var outputEl = gd.closest('.output');\n",
       "if (outputEl) {{\n",
       "    x.observe(outputEl, {childList: true});\n",
       "}}\n",
       "\n",
       "                        })\n",
       "                };\n",
       "                });\n",
       "            </script>\n",
       "        </div>"
      ]
     },
     "metadata": {},
     "output_type": "display_data"
    }
   ],
   "source": [
    "# Plot 'Average Total Production' by 'State'\n",
    "fig = go.Figure(data=[go.Bar(x=totalc_df['State'], y=totalc_df['Average Total Coal Production'])])\n",
    "\n",
    "# Update chart properties\n",
    "fig.update_layout(title='<b>Average Total Coal Production by State</b>', width=800, height=500, showlegend=False)\n",
    "fig.update_yaxes(title='Billion BTU')\n",
    "fig.show()\n",
    "\n",
    "# Save image\n",
    "fig.write_image(\"exports/avg_coal_production.png\")"
   ]
  },
  {
   "cell_type": "code",
   "execution_count": null,
   "metadata": {},
   "outputs": [],
   "source": []
  },
  {
   "cell_type": "code",
   "execution_count": null,
   "metadata": {},
   "outputs": [],
   "source": []
  }
 ],
 "metadata": {
  "kernelspec": {
   "display_name": "Python 3",
   "language": "python",
   "name": "python3"
  },
  "language_info": {
   "codemirror_mode": {
    "name": "ipython",
    "version": 3
   },
   "file_extension": ".py",
   "mimetype": "text/x-python",
   "name": "python",
   "nbconvert_exporter": "python",
   "pygments_lexer": "ipython3",
   "version": "3.6.8"
  }
 },
 "nbformat": 4,
 "nbformat_minor": 2
}
